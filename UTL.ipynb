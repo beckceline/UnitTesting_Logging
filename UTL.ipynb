{
 "cells": [
  {
   "cell_type": "code",
   "execution_count": 1,
   "id": "e8bd5231-c6c1-481f-ae9a-7e1858b15e88",
   "metadata": {},
   "outputs": [
    {
     "name": "stdout",
     "output_type": "stream",
     "text": [
      "Requirement already satisfied: scikit-learn in ./anaconda3/lib/python3.10/site-packages (1.2.1)\r\n",
      "Requirement already satisfied: numpy>=1.17.3 in ./anaconda3/lib/python3.10/site-packages (from scikit-learn) (1.23.5)\r\n",
      "Requirement already satisfied: scipy>=1.3.2 in ./anaconda3/lib/python3.10/site-packages (from scikit-learn) (1.10.1)\r\n",
      "Requirement already satisfied: joblib>=1.1.1 in ./anaconda3/lib/python3.10/site-packages (from scikit-learn) (1.1.1)\r\n",
      "Requirement already satisfied: threadpoolctl>=2.0.0 in ./anaconda3/lib/python3.10/site-packages (from scikit-learn) (2.2.0)\r\n"
     ]
    }
   ],
   "source": [
    "# Importieren der benötigten Bibliotheken\n",
    "import numpy as np\n",
    "import pandas as pd\n",
    "import matplotlib.pyplot as plt\n",
    "!pip install scikit-learn\n",
    "from sklearn.datasets import fetch_openml\n",
    "from sklearn.model_selection import train_test_split\n",
    "from sklearn.preprocessing import StandardScaler\n",
    "from sklearn.metrics import accuracy_score"
   ]
  },
  {
   "cell_type": "code",
   "execution_count": 2,
   "id": "08eea164-90ff-4613-b354-b847f77c5826",
   "metadata": {},
   "outputs": [
    {
     "name": "stderr",
     "output_type": "stream",
     "text": [
      "/Users/celinebeck/anaconda3/lib/python3.10/site-packages/sklearn/datasets/_openml.py:932: FutureWarning: The default value of `parser` will change from `'liac-arff'` to `'auto'` in 1.4. You can set `parser='auto'` to silence this warning. Therefore, an `ImportError` will be raised from 1.4 if the dataset is dense and pandas is not installed. Note that the pandas parser may return different data types. See the Notes Section in fetch_openml's API doc for details.\n",
      "  warn(\n"
     ]
    }
   ],
   "source": [
    "# Laden des MNIST-Datensatzes\n",
    "mnist = fetch_openml(\"mnist_784\", version=1)\n",
    "\n",
    "# Reduzierung des Datensatzes auf eine kleinere Teilmenge (z. B. 10.000 Beispiele)\n",
    "subset_size = 10000\n",
    "X, y = mnist.data[:subset_size], mnist.target[:subset_size]"
   ]
  },
  {
   "cell_type": "code",
   "execution_count": 3,
   "id": "42876d6e-29c1-4c75-9409-a040caf4afe9",
   "metadata": {},
   "outputs": [],
   "source": [
    "# Aufteilung der Daten in Trainings- und Testsets\n",
    "X_train, X_test, y_train, y_test = train_test_split(X, y, test_size=0.2, random_state=42)"
   ]
  },
  {
   "cell_type": "code",
   "execution_count": 4,
   "id": "e597bbdd-51a8-4d83-8e69-0767ceb6cbd1",
   "metadata": {},
   "outputs": [
    {
     "data": {
      "image/png": "[encoded data removed]",
      "text/plain": [
       "<Figure size 640x480 with 1 Axes>"
      ]
     },
     "metadata": {},
     "output_type": "display_data"
    }
   ],
   "source": [
    "# EDA: Anzeigen einer Beispiel-Ziffer\n",
    "sample_digit = X_train.iloc[0].to_numpy().reshape(28, 28)\n",
    "plt.imshow(sample_digit, cmap=\"binary\")\n",
    "plt.axis(\"off\")\n",
    "plt.title(f\"Label: {y_train.iloc[0]}\")\n",
    "plt.show()"
   ]
  },
  {
   "cell_type": "code",
   "execution_count": 5,
   "id": "0f6fcbf8-285a-4a51-ae47-e46e6ef83300",
   "metadata": {},
   "outputs": [
    {
     "data": {
      "image/png": "[encoded data removed]",
      "text/plain": [
       "<Figure size 640x480 with 1 Axes>"
      ]
     },
     "metadata": {},
     "output_type": "display_data"
    }
   ],
   "source": [
    "# EDA: Verteilung der Ziffern im Datensatz\n",
    "digit_counts = y_train.value_counts().sort_index()\n",
    "plt.bar(digit_counts.index.astype(int), digit_counts.values)\n",
    "plt.xlabel(\"Ziffer\")\n",
    "plt.ylabel(\"Anzahl\")\n",
    "plt.title(\"Verteilung der Ziffern im Trainingsdatensatz\")\n",
    "plt.show()"
   ]
  },
  {
   "cell_type": "code",
   "execution_count": 6,
   "id": "a0551f1c-eb80-4acc-9712-532154b412eb",
   "metadata": {},
   "outputs": [],
   "source": [
    "# Datenbereinigung und Vorbereitung\n",
    "scaler = StandardScaler()\n",
    "X_train_scaled = scaler.fit_transform(X_train)\n",
    "X_test_scaled = scaler.transform(X_test)"
   ]
  },
  {
   "cell_type": "code",
   "execution_count": 7,
   "id": "f79d14dd-8112-4fc1-a658-afeab2accb71",
   "metadata": {},
   "outputs": [
    {
     "name": "stdout",
     "output_type": "stream",
     "text": [
      "Trainingsdaten: (8000, 784)\n",
      "Testdaten: (2000, 784)\n"
     ]
    }
   ],
   "source": [
    "# Ergebnisse anzeigen\n",
    "print(\"Trainingsdaten:\", X_train_scaled.shape)\n",
    "print(\"Testdaten:\", X_test_scaled.shape)"
   ]
  },
  {
   "cell_type": "code",
   "execution_count": 8,
   "id": "f444c971-bab5-454d-8048-64d4772a79e5",
   "metadata": {},
   "outputs": [],
   "source": [
    "from sklearn.neighbors import KNeighborsClassifier\n",
    "from sklearn.metrics import accuracy_score\n",
    "\n",
    "def train_and_evaluate_knn(X_train, y_train, X_test, y_test, k=3):\n",
    "    # Trainieren des k-NN Klassifikators\n",
    "    knn_classifier = KNeighborsClassifier(n_neighbors=k)\n",
    "    knn_classifier.fit(X_train, y_train)\n",
    "\n",
    "    # Vorhersagen auf den Testdaten\n",
    "    y_pred = knn_classifier.predict(X_test)\n",
    "\n",
    "    # Berechnung der Genauigkeit\n",
    "    accuracy = accuracy_score(y_test, y_pred)\n",
    "\n",
    "    return accuracy"
   ]
  },
  {
   "cell_type": "code",
   "execution_count": 9,
   "id": "77f58845-0540-4ad1-bb9b-b7c45c49f6bc",
   "metadata": {},
   "outputs": [
    {
     "name": "stdout",
     "output_type": "stream",
     "text": [
      "Genauigkeit des k-NN-Modells mit k=5: 0.91\n"
     ]
    }
   ],
   "source": [
    "# Aufruf der Funktion\n",
    "k = 5  # Anzahl der Nachbarn im k-NN Algorithmus\n",
    "accuracy = train_and_evaluate_knn(X_train_scaled, y_train, X_test_scaled, y_test, k)\n",
    "print(f\"Genauigkeit des k-NN-Modells mit k={k}: {accuracy:.2f}\")"
   ]
  },
  {
   "cell_type": "code",
   "execution_count": 10,
   "id": "bb456324-dced-4b0a-980f-30ccb95a63f8",
   "metadata": {},
   "outputs": [],
   "source": [
    "import numpy as np\n",
    "import pandas as pd\n",
    "import matplotlib.pyplot as plt\n",
    "from sklearn.datasets import fetch_openml\n",
    "from sklearn.model_selection import train_test_split\n",
    "from sklearn.preprocessing import StandardScaler\n",
    "from sklearn.neighbors import KNeighborsClassifier\n",
    "from sklearn.metrics import accuracy_score\n",
    "import time\n",
    "import logging"
   ]
  },
  {
   "cell_type": "code",
   "execution_count": 11,
   "id": "b44ac887-cb82-4271-adde-d93a047d376e",
   "metadata": {},
   "outputs": [],
   "source": [
    "# Implementierung von my_logger und my_timer\n",
    "def my_logger(log_message):\n",
    "    logging.info(log_message)\n",
    "\n",
    "def my_timer(func):\n",
    "    def wrapper(*args, **kwargs):\n",
    "        start_time = time.time()\n",
    "        result = func(*args, **kwargs)\n",
    "        end_time = time.time()\n",
    "        execution_time = end_time - start_time\n",
    "        my_logger(f\"{func.__name__} executed in {execution_time:.4f} seconds\")\n",
    "        return result\n",
    "    return wrapper"
   ]
  },
  {
   "cell_type": "code",
   "execution_count": 12,
   "id": "7dad0e7f-7678-4027-b15a-3b40e7b6df88",
   "metadata": {},
   "outputs": [],
   "source": [
    "# Beispiel-Funktion zur Klassifikation\n",
    "@my_timer\n",
    "def train_and_evaluate_knn(X_train, y_train, X_test, y_test, k=3):\n",
    "    knn_classifier = KNeighborsClassifier(n_neighbors=k)\n",
    "    knn_classifier.fit(X_train, y_train)\n",
    "    y_pred = knn_classifier.predict(X_test)\n",
    "    accuracy = accuracy_score(y_test, y_pred)\n",
    "    return accuracy"
   ]
  },
  {
   "cell_type": "code",
   "execution_count": 13,
   "id": "86d0ee3f-ab3e-438f-ad02-7fee39f87221",
   "metadata": {},
   "outputs": [
    {
     "name": "stdout",
     "output_type": "stream",
     "text": [
      "Genauigkeit des k-NN-Modells: 0.9475\n"
     ]
    }
   ],
   "source": [
    "if __name__ == '__main__':\n",
    "\n",
    "    # Aufrufen der train_and_evaluate_knn-Funktion\n",
    "    k = 5  # Wählen Sie die Anzahl der Nachbarn\n",
    "    accuracy = train_and_evaluate_knn(X_train, y_train, X_test, y_test, k)\n",
    "\n",
    "    # Ausgabe der Genauigkeit\n",
    "    print(f\"Genauigkeit des k-NN-Modells: {accuracy}\")"
   ]
  },
  {
   "cell_type": "code",
   "execution_count": 18,
   "id": "220f25ca",
   "metadata": {},
   "outputs": [
    {
     "name": "stderr",
     "output_type": "stream",
     "text": [
      "test_fit_runtime (__main__.TestKNNClassifier) ... ok\n",
      "test_predict_accuracy (__main__.TestKNNClassifier) ... ok\n",
      "test_train_and_evaluate_knn (__main__.TestKNNClassifier) ... "
     ]
    },
    {
     "name": "stdout",
     "output_type": "stream",
     "text": [
      "Laufzeit: 0.01789689064025879 Sekunden\n",
      "Vergleich mit repräsentativer Laufzeit: 0.01\n",
      "Laufzeit liegt im akzeptablen Bereich.\n",
      "Accuracy: 0.92\n",
      "Confusion Matrix:\n",
      "[[12  0  0  0  0  0  0  0  0  0]\n",
      " [ 0  9  0  0  0  0  0  0  0  0]\n",
      " [ 0  0  9  0  0  0  0  0  0  0]\n",
      " [ 0  0  0 11  0  0  0  0  0  0]\n",
      " [ 0  0  0  0  9  0  0  0  0  0]\n",
      " [ 0  0  0  0  0  7  0  0  2  0]\n",
      " [ 0  0  0  0  0  0  9  0  0  0]\n",
      " [ 0  1  0  0  1  0  0  6  0  0]\n",
      " [ 0  0  0  2  1  0  0  0 11  0]\n",
      " [ 0  1  0  0  0  0  0  0  0  9]]\n"
     ]
    },
    {
     "name": "stderr",
     "output_type": "stream",
     "text": [
      "ok\n",
      "\n",
      "----------------------------------------------------------------------\n",
      "Ran 3 tests in 0.584s\n",
      "\n",
      "OK\n"
     ]
    },
    {
     "name": "stdout",
     "output_type": "stream",
     "text": [
      "Genauigkeit: 0.912\n"
     ]
    },
    {
     "data": {
      "text/plain": [
       "<unittest.runner.TextTestResult run=3 errors=0 failures=0>"
      ]
     },
     "execution_count": 18,
     "metadata": {},
     "output_type": "execute_result"
    }
   ],
   "source": [
    "import unittest\n",
    "import logging\n",
    "from sklearn.metrics import confusion_matrix\n",
    "\n",
    "class TestKNNClassifier(unittest.TestCase):\n",
    "\n",
    "    def setUp(self):\n",
    "        self.k = 5\n",
    "        self.knn_classifier = KNeighborsClassifier(n_neighbors=self.k)\n",
    "        self.knn_classifier.fit(X_train_scaled, y_train)\n",
    "        self.test_data = X_test_scaled[:100]  # Beispiel: Verwenden Sie die ersten 100 Testdaten\n",
    "\n",
    "    def test_predict_accuracy(self):\n",
    "        y_pred = self.knn_classifier.predict(self.test_data)\n",
    "        accuracy = accuracy_score(y_test[:100], y_pred)\n",
    "        self.assertTrue(accuracy > 0.9)  # Beispielprüfung für Genauigkeit\n",
    "        \n",
    "        # Speichern der Testdaten in einer CSV-Datei\n",
    "        test_data_df = pd.DataFrame(self.test_data)\n",
    "        test_data_df.to_csv('test_data.csv', index=False)\n",
    "        \n",
    "        confusion = confusion_matrix(y_test[:100], y_pred)\n",
    "             \n",
    "        # Ausgabe der Genauigkeit und der Verwirrungsmatrix\n",
    "        print(f\"Accuracy: {accuracy}\")\n",
    "        print(\"Confusion Matrix:\")\n",
    "        print(confusion)\n",
    "        \n",
    "        self.assertTrue(confusion[0, 0] > 10)\n",
    "    \n",
    "    def test_train_and_evaluate_knn(self):\n",
    "        accuracy = train_and_evaluate_knn(X_train_scaled, y_train, X_test_scaled, y_test, self.k)\n",
    "        \n",
    "        # Ausgabe der Genauigkeit\n",
    "        print(f\"Genauigkeit: {accuracy}\")\n",
    "        \n",
    "        self.assertTrue(accuracy > 0.9)  # Beispielprüfung für Genauigkeit\n",
    "        \n",
    "    @my_timer\n",
    "    def test_fit_runtime(self):\n",
    "        start_time = time.time()\n",
    "        knn_classifier = KNeighborsClassifier(n_neighbors=self.k)\n",
    "        knn_classifier.fit(X_train_scaled, y_train)\n",
    "        end_time = time.time()\n",
    "        elapsed_time = end_time - start_time\n",
    "        \n",
    "        # Annahme einer repräsentativen Laufzeit (z. B. 100 Sekunden)\n",
    "        representative_runtime = 2\n",
    "        \n",
    "        ratio = elapsed_time / representative_runtime\n",
    "        \n",
    "        # Sicherstellen, dass der Grenzwert nicht überschritten wird (z.B. 120%)\n",
    "        max_ratio = 1.2  \n",
    "        \n",
    "        # Ausgabe der Ergebnisse\n",
    "        print(f\"Laufzeit: {elapsed_time} Sekunden\")\n",
    "        print(f\"Vergleich mit repräsentativer Laufzeit: {ratio:.2f}\")\n",
    "        \n",
    "        if ratio <= max_ratio:\n",
    "            print(\"Laufzeit liegt im akzeptablen Bereich.\")\n",
    "        else:\n",
    "            print(\"Laufzeit überschreitet den akzeptablen Bereich.\")\n",
    "            self.fail(\"Laufzeit überschreitet den akzeptablen Bereich.\")\n",
    "\n",
    "# Konfiguration des Loggings\n",
    "logging.basicConfig(filename='example.log', level=logging.INFO)\n",
    "\n",
    "# Laden der Testsuite\n",
    "suite = unittest.TestLoader().loadTestsFromTestCase(TestKNNClassifier)\n",
    "\n",
    "# Ausführen der Testsuite\n",
    "unittest.TextTestRunner(verbosity=3).run(suite)"
   ]
  },
  {
   "cell_type": "code",
   "execution_count": null,
   "id": "6d7812bb-a6b1-482e-afed-529b7e930677",
   "metadata": {},
   "outputs": [],
   "source": []
  }
 ],
 "metadata": {
  "kernelspec": {
   "display_name": "Python 3 (ipykernel)",
   "language": "python",
   "name": "python3"
  },
  "language_info": {
   "codemirror_mode": {
    "name": "ipython",
    "version": 3
   },
   "file_extension": ".py",
   "mimetype": "text/x-python",
   "name": "python",
   "nbconvert_exporter": "python",
   "pygments_lexer": "ipython3",
   "version": "3.10.9"
  }
 },
 "nbformat": 4,
 "nbformat_minor": 5
}
